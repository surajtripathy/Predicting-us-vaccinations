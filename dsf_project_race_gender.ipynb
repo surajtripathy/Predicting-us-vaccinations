{
  "nbformat": 4,
  "nbformat_minor": 0,
  "metadata": {
    "colab": {
      "name": "Untitled1.ipynb",
      "provenance": [],
      "collapsed_sections": []
    },
    "kernelspec": {
      "name": "python3",
      "display_name": "Python 3"
    },
    "language_info": {
      "name": "python"
    }
  },
  "cells": [
    {
      "cell_type": "code",
      "metadata": {
        "colab": {
          "base_uri": "https://localhost:8080/"
        },
        "id": "InTper0CL0ln",
        "outputId": "566521e2-e2f2-4047-bd8f-ba58cf465a5d"
      },
      "source": [
        "from google.colab import drive\n",
        "drive.mount('/content/drive')"
      ],
      "execution_count": 2,
      "outputs": [
        {
          "output_type": "stream",
          "name": "stdout",
          "text": [
            "Mounted at /content/drive\n"
          ]
        }
      ]
    },
    {
      "cell_type": "code",
      "metadata": {
        "colab": {
          "base_uri": "https://localhost:8080/"
        },
        "id": "rHiSwq6-Mu1e",
        "outputId": "334d33ef-e8f0-42d2-e8ee-4a9ebb25ee12"
      },
      "source": [
        "%cd '/content/drive/MyDrive/dd'"
      ],
      "execution_count": 3,
      "outputs": [
        {
          "output_type": "stream",
          "name": "stdout",
          "text": [
            "/content/drive/MyDrive/dd\n"
          ]
        }
      ]
    },
    {
      "cell_type": "code",
      "metadata": {
        "id": "ZAKGSNuCM6kR"
      },
      "source": [
        "import pandas as pd\n",
        "import numpy as np\n",
        "import seaborn as sns\n",
        "import matplotlib.pyplot as plt\n",
        "\n",
        "sns.set_theme()"
      ],
      "execution_count": 4,
      "outputs": []
    },
    {
      "cell_type": "code",
      "metadata": {
        "id": "x-0WpphHM97z"
      },
      "source": [
        "df = pd.read_csv(\"COVID-19_Vaccination_Demographics_in_the_United_States_National.csv\", parse_dates = True, low_memory = False)"
      ],
      "execution_count": 5,
      "outputs": []
    },
    {
      "cell_type": "code",
      "metadata": {
        "id": "lf68-_1hPpKQ"
      },
      "source": [
        "df_demo = df[df['Demographic_category'].str.startswith('Race_eth')]"
      ],
      "execution_count": 6,
      "outputs": []
    },
    {
      "cell_type": "code",
      "metadata": {
        "colab": {
          "base_uri": "https://localhost:8080/",
          "height": 444
        },
        "id": "IK5NbLBzP54a",
        "outputId": "74150790-85fb-430e-ba1c-378e3eb0d7a7"
      },
      "source": [
        "df_demo"
      ],
      "execution_count": 7,
      "outputs": [
        {
          "output_type": "execute_result",
          "data": {
            "text/html": [
              "<div>\n",
              "<style scoped>\n",
              "    .dataframe tbody tr th:only-of-type {\n",
              "        vertical-align: middle;\n",
              "    }\n",
              "\n",
              "    .dataframe tbody tr th {\n",
              "        vertical-align: top;\n",
              "    }\n",
              "\n",
              "    .dataframe thead th {\n",
              "        text-align: right;\n",
              "    }\n",
              "</style>\n",
              "<table border=\"1\" class=\"dataframe\">\n",
              "  <thead>\n",
              "    <tr style=\"text-align: right;\">\n",
              "      <th></th>\n",
              "      <th>Date</th>\n",
              "      <th>Demographic_category</th>\n",
              "      <th>Administered_Dose1</th>\n",
              "      <th>Administered_Dose1_pct_known</th>\n",
              "      <th>Administered_Dose1_pct_US</th>\n",
              "      <th>Series_Complete_Yes</th>\n",
              "      <th>Administered_Dose1_pct_agegroup</th>\n",
              "      <th>Series_Complete_Pop_pct_agegroup</th>\n",
              "      <th>Series_Complete_Pop_Pct_known</th>\n",
              "      <th>Series_Complete_Pop_Pct_US</th>\n",
              "    </tr>\n",
              "  </thead>\n",
              "  <tbody>\n",
              "    <tr>\n",
              "      <th>1</th>\n",
              "      <td>11/24/2021</td>\n",
              "      <td>Race_eth_Hispanic</td>\n",
              "      <td>31201239</td>\n",
              "      <td>19.3</td>\n",
              "      <td>13.5</td>\n",
              "      <td>27116038</td>\n",
              "      <td>48.9</td>\n",
              "      <td>42.5</td>\n",
              "      <td>18.9</td>\n",
              "      <td>13.8</td>\n",
              "    </tr>\n",
              "    <tr>\n",
              "      <th>3</th>\n",
              "      <td>11/24/2021</td>\n",
              "      <td>Race_eth_NHAsian</td>\n",
              "      <td>9607706</td>\n",
              "      <td>5.9</td>\n",
              "      <td>4.2</td>\n",
              "      <td>8800252</td>\n",
              "      <td>50.6</td>\n",
              "      <td>46.3</td>\n",
              "      <td>6.1</td>\n",
              "      <td>4.5</td>\n",
              "    </tr>\n",
              "    <tr>\n",
              "      <th>4</th>\n",
              "      <td>11/24/2021</td>\n",
              "      <td>Race_eth_NHBlack</td>\n",
              "      <td>16509641</td>\n",
              "      <td>10.2</td>\n",
              "      <td>7.1</td>\n",
              "      <td>14522849</td>\n",
              "      <td>40.1</td>\n",
              "      <td>35.2</td>\n",
              "      <td>10.1</td>\n",
              "      <td>7.4</td>\n",
              "    </tr>\n",
              "    <tr>\n",
              "      <th>9</th>\n",
              "      <td>11/24/2021</td>\n",
              "      <td>Race_eth_known</td>\n",
              "      <td>161654159</td>\n",
              "      <td>99.9</td>\n",
              "      <td>69.9</td>\n",
              "      <td>143614928</td>\n",
              "      <td>NaN</td>\n",
              "      <td>NaN</td>\n",
              "      <td>99.9</td>\n",
              "      <td>73.2</td>\n",
              "    </tr>\n",
              "    <tr>\n",
              "      <th>10</th>\n",
              "      <td>11/24/2021</td>\n",
              "      <td>Race_eth_NHMult_Oth</td>\n",
              "      <td>8950116</td>\n",
              "      <td>5.5</td>\n",
              "      <td>3.9</td>\n",
              "      <td>7808321</td>\n",
              "      <td>99.9</td>\n",
              "      <td>99.9</td>\n",
              "      <td>5.4</td>\n",
              "      <td>4.0</td>\n",
              "    </tr>\n",
              "    <tr>\n",
              "      <th>...</th>\n",
              "      <td>...</td>\n",
              "      <td>...</td>\n",
              "      <td>...</td>\n",
              "      <td>...</td>\n",
              "      <td>...</td>\n",
              "      <td>...</td>\n",
              "      <td>...</td>\n",
              "      <td>...</td>\n",
              "      <td>...</td>\n",
              "      <td>...</td>\n",
              "    </tr>\n",
              "    <tr>\n",
              "      <th>9353</th>\n",
              "      <td>12/13/2020</td>\n",
              "      <td>Race_eth_NHAIAN</td>\n",
              "      <td>172</td>\n",
              "      <td>1.3</td>\n",
              "      <td>0.9</td>\n",
              "      <td>19</td>\n",
              "      <td>0.0</td>\n",
              "      <td>0.0</td>\n",
              "      <td>0.7</td>\n",
              "      <td>0.5</td>\n",
              "    </tr>\n",
              "    <tr>\n",
              "      <th>9356</th>\n",
              "      <td>12/13/2020</td>\n",
              "      <td>Race_eth_known</td>\n",
              "      <td>12980</td>\n",
              "      <td>99.9</td>\n",
              "      <td>69.6</td>\n",
              "      <td>2769</td>\n",
              "      <td>NaN</td>\n",
              "      <td>NaN</td>\n",
              "      <td>99.9</td>\n",
              "      <td>70.9</td>\n",
              "    </tr>\n",
              "    <tr>\n",
              "      <th>9360</th>\n",
              "      <td>12/13/2020</td>\n",
              "      <td>Race_eth_NHNHOPI</td>\n",
              "      <td>31</td>\n",
              "      <td>0.2</td>\n",
              "      <td>0.2</td>\n",
              "      <td>7</td>\n",
              "      <td>0.0</td>\n",
              "      <td>0.0</td>\n",
              "      <td>0.3</td>\n",
              "      <td>0.2</td>\n",
              "    </tr>\n",
              "    <tr>\n",
              "      <th>9362</th>\n",
              "      <td>12/13/2020</td>\n",
              "      <td>Race_eth_NHBlack</td>\n",
              "      <td>901</td>\n",
              "      <td>6.9</td>\n",
              "      <td>4.8</td>\n",
              "      <td>192</td>\n",
              "      <td>0.0</td>\n",
              "      <td>0.0</td>\n",
              "      <td>6.9</td>\n",
              "      <td>4.9</td>\n",
              "    </tr>\n",
              "    <tr>\n",
              "      <th>9366</th>\n",
              "      <td>12/13/2020</td>\n",
              "      <td>Race_eth_Hispanic</td>\n",
              "      <td>1112</td>\n",
              "      <td>8.6</td>\n",
              "      <td>6.0</td>\n",
              "      <td>253</td>\n",
              "      <td>0.0</td>\n",
              "      <td>0.0</td>\n",
              "      <td>9.1</td>\n",
              "      <td>6.5</td>\n",
              "    </tr>\n",
              "  </tbody>\n",
              "</table>\n",
              "<p>3123 rows × 10 columns</p>\n",
              "</div>"
            ],
            "text/plain": [
              "            Date  ... Series_Complete_Pop_Pct_US\n",
              "1     11/24/2021  ...                       13.8\n",
              "3     11/24/2021  ...                        4.5\n",
              "4     11/24/2021  ...                        7.4\n",
              "9     11/24/2021  ...                       73.2\n",
              "10    11/24/2021  ...                        4.0\n",
              "...          ...  ...                        ...\n",
              "9353  12/13/2020  ...                        0.5\n",
              "9356  12/13/2020  ...                       70.9\n",
              "9360  12/13/2020  ...                        0.2\n",
              "9362  12/13/2020  ...                        4.9\n",
              "9366  12/13/2020  ...                        6.5\n",
              "\n",
              "[3123 rows x 10 columns]"
            ]
          },
          "metadata": {},
          "execution_count": 7
        }
      ]
    },
    {
      "cell_type": "code",
      "metadata": {
        "colab": {
          "base_uri": "https://localhost:8080/"
        },
        "id": "eoofXfCFk1D8",
        "outputId": "51a9fc9c-7226-41ff-d9f1-e11cbdef8b4e"
      },
      "source": [
        "df_demo = df_demo[df.Demographic_category != 'Race_eth_known']\n",
        "df_demo = df_demo[df.Demographic_category != 'Race_eth_NHMult_Oth']"
      ],
      "execution_count": 10,
      "outputs": [
        {
          "output_type": "stream",
          "name": "stderr",
          "text": [
            "/usr/local/lib/python3.7/dist-packages/ipykernel_launcher.py:1: UserWarning: Boolean Series key will be reindexed to match DataFrame index.\n",
            "  \"\"\"Entry point for launching an IPython kernel.\n",
            "/usr/local/lib/python3.7/dist-packages/ipykernel_launcher.py:2: UserWarning: Boolean Series key will be reindexed to match DataFrame index.\n",
            "  \n"
          ]
        }
      ]
    },
    {
      "cell_type": "code",
      "metadata": {
        "colab": {
          "base_uri": "https://localhost:8080/",
          "height": 399
        },
        "id": "6rtkNN1TP66-",
        "outputId": "5df159db-d148-45b3-d4d2-43d80821df94"
      },
      "source": [
        "ax = sns.barplot(x='Demographic_category', y='Series_Complete_Yes',ci=None, data=df_demo)\n",
        "ax.set(xlabel='Demographic_race_category', ylabel='Vaccination Series Completed')\n",
        "plt.title('Vaccination Rate based on race and ethnicity')\n",
        "plt.xticks(rotation=90)\n",
        "plt.show()"
      ],
      "execution_count": 14,
      "outputs": [
        {
          "output_type": "display_data",
          "data": {
            "image/png": "[encoded data removed]",
            "text/plain": [
              "<Figure size 432x288 with 1 Axes>"
            ]
          },
          "metadata": {}
        }
      ]
    },
    {
      "cell_type": "code",
      "metadata": {
        "id": "wQk5yAvmvBpy"
      },
      "source": [
        "df_Gender = df[df['Demographic_category'].str.startswith('Sex_')]"
      ],
      "execution_count": 19,
      "outputs": []
    },
    {
      "cell_type": "code",
      "metadata": {
        "colab": {
          "base_uri": "https://localhost:8080/"
        },
        "id": "pkRptLZnkzO5",
        "outputId": "f6a4fcab-dbc3-4151-91f7-d16e2ffa3110"
      },
      "source": [
        "df_Gender = df_Gender[df.Demographic_category != 'Sex_known']"
      ],
      "execution_count": 20,
      "outputs": [
        {
          "output_type": "stream",
          "name": "stderr",
          "text": [
            "/usr/local/lib/python3.7/dist-packages/ipykernel_launcher.py:1: UserWarning: Boolean Series key will be reindexed to match DataFrame index.\n",
            "  \"\"\"Entry point for launching an IPython kernel.\n"
          ]
        }
      ]
    },
    {
      "cell_type": "code",
      "metadata": {
        "colab": {
          "base_uri": "https://localhost:8080/",
          "height": 444
        },
        "id": "LCVmiZYP1Mt6",
        "outputId": "3acffaaf-2f65-4010-fd79-bb314f8d1670"
      },
      "source": [
        "df_Gender"
      ],
      "execution_count": 22,
      "outputs": [
        {
          "output_type": "execute_result",
          "data": {
            "text/html": [
              "<div>\n",
              "<style scoped>\n",
              "    .dataframe tbody tr th:only-of-type {\n",
              "        vertical-align: middle;\n",
              "    }\n",
              "\n",
              "    .dataframe tbody tr th {\n",
              "        vertical-align: top;\n",
              "    }\n",
              "\n",
              "    .dataframe thead th {\n",
              "        text-align: right;\n",
              "    }\n",
              "</style>\n",
              "<table border=\"1\" class=\"dataframe\">\n",
              "  <thead>\n",
              "    <tr style=\"text-align: right;\">\n",
              "      <th></th>\n",
              "      <th>Date</th>\n",
              "      <th>Demographic_category</th>\n",
              "      <th>Administered_Dose1</th>\n",
              "      <th>Administered_Dose1_pct_known</th>\n",
              "      <th>Administered_Dose1_pct_US</th>\n",
              "      <th>Series_Complete_Yes</th>\n",
              "      <th>Administered_Dose1_pct_agegroup</th>\n",
              "      <th>Series_Complete_Pop_pct_agegroup</th>\n",
              "      <th>Series_Complete_Pop_Pct_known</th>\n",
              "      <th>Series_Complete_Pop_Pct_US</th>\n",
              "    </tr>\n",
              "  </thead>\n",
              "  <tbody>\n",
              "    <tr>\n",
              "      <th>7</th>\n",
              "      <td>11/24/2021</td>\n",
              "      <td>Sex_Male</td>\n",
              "      <td>109076804</td>\n",
              "      <td>47.6</td>\n",
              "      <td>47.1</td>\n",
              "      <td>92303783</td>\n",
              "      <td>66.7</td>\n",
              "      <td>56.5</td>\n",
              "      <td>47.4</td>\n",
              "      <td>47.1</td>\n",
              "    </tr>\n",
              "    <tr>\n",
              "      <th>15</th>\n",
              "      <td>11/24/2021</td>\n",
              "      <td>Sex_unknown</td>\n",
              "      <td>2149775</td>\n",
              "      <td>0.9</td>\n",
              "      <td>0.9</td>\n",
              "      <td>1506098</td>\n",
              "      <td>NaN</td>\n",
              "      <td>NaN</td>\n",
              "      <td>0.8</td>\n",
              "      <td>0.8</td>\n",
              "    </tr>\n",
              "    <tr>\n",
              "      <th>17</th>\n",
              "      <td>11/24/2021</td>\n",
              "      <td>Sex_known</td>\n",
              "      <td>229217911</td>\n",
              "      <td>99.9</td>\n",
              "      <td>99.1</td>\n",
              "      <td>194662658</td>\n",
              "      <td>NaN</td>\n",
              "      <td>NaN</td>\n",
              "      <td>99.9</td>\n",
              "      <td>99.2</td>\n",
              "    </tr>\n",
              "    <tr>\n",
              "      <th>23</th>\n",
              "      <td>11/24/2021</td>\n",
              "      <td>Sex_Female</td>\n",
              "      <td>120141107</td>\n",
              "      <td>52.4</td>\n",
              "      <td>51.9</td>\n",
              "      <td>102358875</td>\n",
              "      <td>71.3</td>\n",
              "      <td>60.7</td>\n",
              "      <td>52.6</td>\n",
              "      <td>52.2</td>\n",
              "    </tr>\n",
              "    <tr>\n",
              "      <th>31</th>\n",
              "      <td>11/23/2021</td>\n",
              "      <td>Sex_Female</td>\n",
              "      <td>120141106</td>\n",
              "      <td>52.4</td>\n",
              "      <td>51.9</td>\n",
              "      <td>102358875</td>\n",
              "      <td>71.3</td>\n",
              "      <td>60.7</td>\n",
              "      <td>52.6</td>\n",
              "      <td>52.2</td>\n",
              "    </tr>\n",
              "    <tr>\n",
              "      <th>...</th>\n",
              "      <td>...</td>\n",
              "      <td>...</td>\n",
              "      <td>...</td>\n",
              "      <td>...</td>\n",
              "      <td>...</td>\n",
              "      <td>...</td>\n",
              "      <td>...</td>\n",
              "      <td>...</td>\n",
              "      <td>...</td>\n",
              "      <td>...</td>\n",
              "    </tr>\n",
              "    <tr>\n",
              "      <th>9326</th>\n",
              "      <td>12/14/2020</td>\n",
              "      <td>Sex_Female</td>\n",
              "      <td>13225</td>\n",
              "      <td>58.8</td>\n",
              "      <td>57.9</td>\n",
              "      <td>2026</td>\n",
              "      <td>0.0</td>\n",
              "      <td>0.0</td>\n",
              "      <td>51.0</td>\n",
              "      <td>50.6</td>\n",
              "    </tr>\n",
              "    <tr>\n",
              "      <th>9363</th>\n",
              "      <td>12/13/2020</td>\n",
              "      <td>Sex_known</td>\n",
              "      <td>18412</td>\n",
              "      <td>99.9</td>\n",
              "      <td>98.7</td>\n",
              "      <td>3882</td>\n",
              "      <td>NaN</td>\n",
              "      <td>NaN</td>\n",
              "      <td>99.9</td>\n",
              "      <td>99.3</td>\n",
              "    </tr>\n",
              "    <tr>\n",
              "      <th>9364</th>\n",
              "      <td>12/13/2020</td>\n",
              "      <td>Sex_unknown</td>\n",
              "      <td>234</td>\n",
              "      <td>1.3</td>\n",
              "      <td>1.3</td>\n",
              "      <td>26</td>\n",
              "      <td>NaN</td>\n",
              "      <td>NaN</td>\n",
              "      <td>0.7</td>\n",
              "      <td>0.7</td>\n",
              "    </tr>\n",
              "    <tr>\n",
              "      <th>9367</th>\n",
              "      <td>12/13/2020</td>\n",
              "      <td>Sex_Male</td>\n",
              "      <td>7548</td>\n",
              "      <td>41.0</td>\n",
              "      <td>40.5</td>\n",
              "      <td>1913</td>\n",
              "      <td>0.0</td>\n",
              "      <td>0.0</td>\n",
              "      <td>49.3</td>\n",
              "      <td>49.0</td>\n",
              "    </tr>\n",
              "    <tr>\n",
              "      <th>9368</th>\n",
              "      <td>12/13/2020</td>\n",
              "      <td>Sex_Female</td>\n",
              "      <td>10864</td>\n",
              "      <td>59.0</td>\n",
              "      <td>58.3</td>\n",
              "      <td>1969</td>\n",
              "      <td>0.0</td>\n",
              "      <td>0.0</td>\n",
              "      <td>50.7</td>\n",
              "      <td>50.4</td>\n",
              "    </tr>\n",
              "  </tbody>\n",
              "</table>\n",
              "<p>1388 rows × 10 columns</p>\n",
              "</div>"
            ],
            "text/plain": [
              "            Date  ... Series_Complete_Pop_Pct_US\n",
              "7     11/24/2021  ...                       47.1\n",
              "15    11/24/2021  ...                        0.8\n",
              "17    11/24/2021  ...                       99.2\n",
              "23    11/24/2021  ...                       52.2\n",
              "31    11/23/2021  ...                       52.2\n",
              "...          ...  ...                        ...\n",
              "9326  12/14/2020  ...                       50.6\n",
              "9363  12/13/2020  ...                       99.3\n",
              "9364  12/13/2020  ...                        0.7\n",
              "9367  12/13/2020  ...                       49.0\n",
              "9368  12/13/2020  ...                       50.4\n",
              "\n",
              "[1388 rows x 10 columns]"
            ]
          },
          "metadata": {},
          "execution_count": 22
        }
      ]
    },
    {
      "cell_type": "code",
      "metadata": {
        "id": "aTLu6iPn78SX"
      },
      "source": [
        "df_Gender = df_Gender[df.Demographic_category != 'Sex_unknown']"
      ],
      "execution_count": null,
      "outputs": []
    },
    {
      "cell_type": "code",
      "metadata": {
        "colab": {
          "base_uri": "https://localhost:8080/"
        },
        "id": "1jaGl9pY8RUA",
        "outputId": "8b2c5907-23ff-4140-d8a2-32ba189e0077"
      },
      "source": [
        "df_Gender = df_Gender[df.Demographic_category != 'Sex_known']"
      ],
      "execution_count": 24,
      "outputs": [
        {
          "output_type": "stream",
          "name": "stderr",
          "text": [
            "/usr/local/lib/python3.7/dist-packages/ipykernel_launcher.py:1: UserWarning: Boolean Series key will be reindexed to match DataFrame index.\n",
            "  \"\"\"Entry point for launching an IPython kernel.\n"
          ]
        }
      ]
    },
    {
      "cell_type": "code",
      "metadata": {
        "colab": {
          "base_uri": "https://localhost:8080/",
          "height": 348
        },
        "id": "66VJsD3T1OEc",
        "outputId": "d418380f-1ce2-451e-d461-a5228eeeafaa"
      },
      "source": [
        "ax = sns.barplot(x='Demographic_category', y='Series_Complete_Yes',ci=None, data=df_Gender)\n",
        "ax.set(xlabel='Demographic_Gender_category', ylabel='Vaccination Series Completed')\n",
        "plt.title('Vaccination Rate based on gender')\n",
        "plt.xticks(rotation=50)\n",
        "plt.show()"
      ],
      "execution_count": 25,
      "outputs": [
        {
          "output_type": "display_data",
          "data": {
            "image/png": "[encoded data removed]",
            "text/plain": [
              "<Figure size 432x288 with 1 Axes>"
            ]
          },
          "metadata": {}
        }
      ]
    }
  ]
}